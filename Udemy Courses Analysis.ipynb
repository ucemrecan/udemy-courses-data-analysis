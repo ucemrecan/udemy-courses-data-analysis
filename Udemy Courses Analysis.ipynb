{
 "cells": [
  {
   "cell_type": "code",
   "execution_count": 1,
   "id": "b25d1a70",
   "metadata": {},
   "outputs": [],
   "source": [
    "#Dataset - Udemy Courses Dataset on Kaggle\n",
    "#https://www.kaggle.com/datasets/sonalisingh1411/udemy-courses-dataset"
   ]
  },
  {
   "cell_type": "code",
   "execution_count": 2,
   "id": "6ab62571",
   "metadata": {},
   "outputs": [],
   "source": [
    "import pandas as pd\n",
    "import numpy as np\n",
    "import matplotlib.pyplot as plt \n",
    "import seaborn as sns"
   ]
  },
  {
   "cell_type": "code",
   "execution_count": 207,
   "id": "42bf84e5",
   "metadata": {},
   "outputs": [
    {
     "data": {
      "text/html": [
       "<div>\n",
       "<style scoped>\n",
       "    .dataframe tbody tr th:only-of-type {\n",
       "        vertical-align: middle;\n",
       "    }\n",
       "\n",
       "    .dataframe tbody tr th {\n",
       "        vertical-align: top;\n",
       "    }\n",
       "\n",
       "    .dataframe thead th {\n",
       "        text-align: right;\n",
       "    }\n",
       "</style>\n",
       "<table border=\"1\" class=\"dataframe\">\n",
       "  <thead>\n",
       "    <tr style=\"text-align: right;\">\n",
       "      <th></th>\n",
       "      <th>course_id</th>\n",
       "      <th>course_title</th>\n",
       "      <th>is_paid</th>\n",
       "      <th>price</th>\n",
       "      <th>num_subscribers</th>\n",
       "      <th>num_reviews</th>\n",
       "      <th>num_lectures</th>\n",
       "      <th>level</th>\n",
       "      <th>content_duration</th>\n",
       "      <th>published_timestamp</th>\n",
       "      <th>subject</th>\n",
       "    </tr>\n",
       "  </thead>\n",
       "  <tbody>\n",
       "    <tr>\n",
       "      <th>0</th>\n",
       "      <td>288942</td>\n",
       "      <td>#1 Piano Hand Coordination: Play 10th Ballad i...</td>\n",
       "      <td>True</td>\n",
       "      <td>35</td>\n",
       "      <td>3137</td>\n",
       "      <td>18</td>\n",
       "      <td>68</td>\n",
       "      <td>All Levels</td>\n",
       "      <td>1.5 hours</td>\n",
       "      <td>2014-09-18T05:07:05Z</td>\n",
       "      <td>Musical Instruments</td>\n",
       "    </tr>\n",
       "    <tr>\n",
       "      <th>1</th>\n",
       "      <td>1170074</td>\n",
       "      <td>#10 Hand Coordination - Transfer Chord Ballad ...</td>\n",
       "      <td>True</td>\n",
       "      <td>75</td>\n",
       "      <td>1593</td>\n",
       "      <td>1</td>\n",
       "      <td>41</td>\n",
       "      <td>Intermediate Level</td>\n",
       "      <td>1 hour</td>\n",
       "      <td>2017-04-12T19:06:34Z</td>\n",
       "      <td>Musical Instruments</td>\n",
       "    </tr>\n",
       "    <tr>\n",
       "      <th>2</th>\n",
       "      <td>1193886</td>\n",
       "      <td>#12 Hand Coordination: Let your Hands dance wi...</td>\n",
       "      <td>True</td>\n",
       "      <td>75</td>\n",
       "      <td>482</td>\n",
       "      <td>1</td>\n",
       "      <td>47</td>\n",
       "      <td>Intermediate Level</td>\n",
       "      <td>1.5 hours</td>\n",
       "      <td>2017-04-26T18:34:57Z</td>\n",
       "      <td>Musical Instruments</td>\n",
       "    </tr>\n",
       "    <tr>\n",
       "      <th>3</th>\n",
       "      <td>1116700</td>\n",
       "      <td>#4 Piano Hand Coordination: Fun Piano Runs in ...</td>\n",
       "      <td>True</td>\n",
       "      <td>75</td>\n",
       "      <td>850</td>\n",
       "      <td>3</td>\n",
       "      <td>43</td>\n",
       "      <td>Intermediate Level</td>\n",
       "      <td>1 hour</td>\n",
       "      <td>2017-02-21T23:48:18Z</td>\n",
       "      <td>Musical Instruments</td>\n",
       "    </tr>\n",
       "    <tr>\n",
       "      <th>4</th>\n",
       "      <td>1120410</td>\n",
       "      <td>#5  Piano Hand Coordination:  Piano Runs in 2 ...</td>\n",
       "      <td>True</td>\n",
       "      <td>75</td>\n",
       "      <td>940</td>\n",
       "      <td>3</td>\n",
       "      <td>32</td>\n",
       "      <td>Intermediate Level</td>\n",
       "      <td>37 mins</td>\n",
       "      <td>2017-02-21T23:44:49Z</td>\n",
       "      <td>Musical Instruments</td>\n",
       "    </tr>\n",
       "  </tbody>\n",
       "</table>\n",
       "</div>"
      ],
      "text/plain": [
       "   course_id                                       course_title  is_paid  \\\n",
       "0     288942  #1 Piano Hand Coordination: Play 10th Ballad i...     True   \n",
       "1    1170074  #10 Hand Coordination - Transfer Chord Ballad ...     True   \n",
       "2    1193886  #12 Hand Coordination: Let your Hands dance wi...     True   \n",
       "3    1116700  #4 Piano Hand Coordination: Fun Piano Runs in ...     True   \n",
       "4    1120410  #5  Piano Hand Coordination:  Piano Runs in 2 ...     True   \n",
       "\n",
       "  price  num_subscribers  num_reviews  num_lectures               level  \\\n",
       "0    35             3137           18            68          All Levels   \n",
       "1    75             1593            1            41  Intermediate Level   \n",
       "2    75              482            1            47  Intermediate Level   \n",
       "3    75              850            3            43  Intermediate Level   \n",
       "4    75              940            3            32  Intermediate Level   \n",
       "\n",
       "  content_duration   published_timestamp              subject  \n",
       "0        1.5 hours  2014-09-18T05:07:05Z  Musical Instruments  \n",
       "1           1 hour  2017-04-12T19:06:34Z  Musical Instruments  \n",
       "2        1.5 hours  2017-04-26T18:34:57Z  Musical Instruments  \n",
       "3           1 hour  2017-02-21T23:48:18Z  Musical Instruments  \n",
       "4          37 mins  2017-02-21T23:44:49Z  Musical Instruments  "
      ]
     },
     "execution_count": 207,
     "metadata": {},
     "output_type": "execute_result"
    }
   ],
   "source": [
    "data = pd.read_csv(\"Udemy Courses Data.csv\")\n",
    "data.head()"
   ]
  },
  {
   "cell_type": "markdown",
   "id": "cf6be172",
   "metadata": {},
   "source": [
    "### Top 5 courses with the most subscribers on Udemy"
   ]
  },
  {
   "cell_type": "code",
   "execution_count": 6,
   "id": "ffca55ab",
   "metadata": {},
   "outputs": [
    {
     "data": {
      "text/html": [
       "<div>\n",
       "<style scoped>\n",
       "    .dataframe tbody tr th:only-of-type {\n",
       "        vertical-align: middle;\n",
       "    }\n",
       "\n",
       "    .dataframe tbody tr th {\n",
       "        vertical-align: top;\n",
       "    }\n",
       "\n",
       "    .dataframe thead th {\n",
       "        text-align: right;\n",
       "    }\n",
       "</style>\n",
       "<table border=\"1\" class=\"dataframe\">\n",
       "  <thead>\n",
       "    <tr style=\"text-align: right;\">\n",
       "      <th></th>\n",
       "      <th>course_id</th>\n",
       "      <th>course_title</th>\n",
       "      <th>is_paid</th>\n",
       "      <th>price</th>\n",
       "      <th>num_subscribers</th>\n",
       "      <th>num_reviews</th>\n",
       "      <th>num_lectures</th>\n",
       "      <th>level</th>\n",
       "      <th>content_duration</th>\n",
       "      <th>published_timestamp</th>\n",
       "      <th>subject</th>\n",
       "    </tr>\n",
       "  </thead>\n",
       "  <tbody>\n",
       "    <tr>\n",
       "      <th>2230</th>\n",
       "      <td>41295</td>\n",
       "      <td>Learn HTML5 Programming From Scratch</td>\n",
       "      <td>False</td>\n",
       "      <td>Free</td>\n",
       "      <td>268923</td>\n",
       "      <td>8629</td>\n",
       "      <td>45</td>\n",
       "      <td>All Levels</td>\n",
       "      <td>10.5 hours</td>\n",
       "      <td>2013-02-14T07:03:41Z</td>\n",
       "      <td>Web Development</td>\n",
       "    </tr>\n",
       "    <tr>\n",
       "      <th>776</th>\n",
       "      <td>59014</td>\n",
       "      <td>Coding for Entrepreneurs Basic</td>\n",
       "      <td>False</td>\n",
       "      <td>Free</td>\n",
       "      <td>161029</td>\n",
       "      <td>279</td>\n",
       "      <td>27</td>\n",
       "      <td>Beginner Level</td>\n",
       "      <td>3.5 hours</td>\n",
       "      <td>2013-06-09T15:51:55Z</td>\n",
       "      <td>Web Development</td>\n",
       "    </tr>\n",
       "    <tr>\n",
       "      <th>3385</th>\n",
       "      <td>625204</td>\n",
       "      <td>The Web Developer Bootcamp</td>\n",
       "      <td>True</td>\n",
       "      <td>200</td>\n",
       "      <td>121584</td>\n",
       "      <td>27445</td>\n",
       "      <td>342</td>\n",
       "      <td>All Levels</td>\n",
       "      <td>43 hours</td>\n",
       "      <td>2015-11-02T21:13:27Z</td>\n",
       "      <td>Web Development</td>\n",
       "    </tr>\n",
       "    <tr>\n",
       "      <th>640</th>\n",
       "      <td>173548</td>\n",
       "      <td>Build Your First Website in 1 Week with HTML5 ...</td>\n",
       "      <td>False</td>\n",
       "      <td>Free</td>\n",
       "      <td>120291</td>\n",
       "      <td>5924</td>\n",
       "      <td>30</td>\n",
       "      <td>Beginner Level</td>\n",
       "      <td>3 hours</td>\n",
       "      <td>2014-04-08T16:21:30Z</td>\n",
       "      <td>Web Development</td>\n",
       "    </tr>\n",
       "    <tr>\n",
       "      <th>3316</th>\n",
       "      <td>764164</td>\n",
       "      <td>The Complete Web Developer Course 2.0</td>\n",
       "      <td>True</td>\n",
       "      <td>200</td>\n",
       "      <td>114512</td>\n",
       "      <td>22412</td>\n",
       "      <td>304</td>\n",
       "      <td>All Levels</td>\n",
       "      <td>30.5 hours</td>\n",
       "      <td>2016-03-08T22:28:36Z</td>\n",
       "      <td>Web Development</td>\n",
       "    </tr>\n",
       "  </tbody>\n",
       "</table>\n",
       "</div>"
      ],
      "text/plain": [
       "      course_id                                       course_title  is_paid  \\\n",
       "2230      41295               Learn HTML5 Programming From Scratch    False   \n",
       "776       59014                     Coding for Entrepreneurs Basic    False   \n",
       "3385     625204                         The Web Developer Bootcamp     True   \n",
       "640      173548  Build Your First Website in 1 Week with HTML5 ...    False   \n",
       "3316     764164              The Complete Web Developer Course 2.0     True   \n",
       "\n",
       "     price  num_subscribers  num_reviews  num_lectures           level  \\\n",
       "2230  Free           268923         8629            45      All Levels   \n",
       "776   Free           161029          279            27  Beginner Level   \n",
       "3385   200           121584        27445           342      All Levels   \n",
       "640   Free           120291         5924            30  Beginner Level   \n",
       "3316   200           114512        22412           304      All Levels   \n",
       "\n",
       "     content_duration   published_timestamp          subject  \n",
       "2230       10.5 hours  2013-02-14T07:03:41Z  Web Development  \n",
       "776         3.5 hours  2013-06-09T15:51:55Z  Web Development  \n",
       "3385         43 hours  2015-11-02T21:13:27Z  Web Development  \n",
       "640           3 hours  2014-04-08T16:21:30Z  Web Development  \n",
       "3316       30.5 hours  2016-03-08T22:28:36Z  Web Development  "
      ]
     },
     "execution_count": 6,
     "metadata": {},
     "output_type": "execute_result"
    }
   ],
   "source": [
    "data.sort_values(by=\"num_subscribers\", ascending=False).head(5)"
   ]
  },
  {
   "cell_type": "code",
   "execution_count": 60,
   "id": "071ccd58",
   "metadata": {},
   "outputs": [
    {
     "data": {
      "image/png": "[encoded data removed]",
      "text/plain": [
       "<Figure size 576x432 with 1 Axes>"
      ]
     },
     "metadata": {
      "needs_background": "light"
     },
     "output_type": "display_data"
    }
   ],
   "source": [
    "plt.figure(figsize = (8,6))\n",
    "sns.barplot(x = \"num_subscribers\", \n",
    "            y= \"course_title\", \n",
    "            data=data.sort_values(by=\"num_subscribers\", ascending=False).head(5), \n",
    "            palette=\"viridis\")\n",
    "plt.title(\"Top 5 courses with the most subscribers on Udemy\",\n",
    "          fontsize= 16,\n",
    "          fontweight = \"bold\")\n",
    "plt.grid(color='#95a5a6', linestyle='--', linewidth=1, axis='x', alpha=0.7)\n",
    "plt.xlabel(\"Subscribers\", weight=\"bold\", \n",
    "           color=\"#355764\", fontsize=14, labelpad = 20)\n",
    "plt.ylabel(\"Course Title\", weight=\"bold\", \n",
    "           color=\"#355764\", fontsize=14, labelpad=20)\n",
    "plt.show()"
   ]
  },
  {
   "cell_type": "markdown",
   "id": "727304f6",
   "metadata": {},
   "source": [
    "### Which subject has the most number of courses? "
   ]
  },
  {
   "cell_type": "code",
   "execution_count": 36,
   "id": "2bf3cf04",
   "metadata": {},
   "outputs": [
    {
     "data": {
      "text/plain": [
       "Web Development        1200\n",
       "Business Finance       1199\n",
       "Musical Instruments     680\n",
       "Graphic Design          603\n",
       "Name: subject, dtype: int64"
      ]
     },
     "execution_count": 36,
     "metadata": {},
     "output_type": "execute_result"
    }
   ],
   "source": [
    "data[\"subject\"].value_counts()"
   ]
  },
  {
   "cell_type": "code",
   "execution_count": 76,
   "id": "426910d7",
   "metadata": {},
   "outputs": [
    {
     "data": {
      "image/png": "[encoded data removed]",
      "text/plain": [
       "<Figure size 576x432 with 1 Axes>"
      ]
     },
     "metadata": {
      "needs_background": "light"
     },
     "output_type": "display_data"
    }
   ],
   "source": [
    "subjects = pd.DataFrame({'Subject': data[\"subject\"].value_counts().index, 'Total Courses': data[\"subject\"].value_counts().values})\n",
    "\n",
    "plt.figure(figsize = (8,6))\n",
    "sns.barplot(x = \"Total Courses\",\n",
    "            y = \"Subject\",\n",
    "            data=subjects,\n",
    "            palette=\"magma\")\n",
    "plt.title(\"Number of courses each subject\", fontsize= 16, fontweight = \"bold\")\n",
    "plt.grid(color='#95a5a6', linestyle='-.', linewidth=1, axis='x', alpha=0.7)\n",
    "plt.xlabel(\"Number of Courses\", weight=\"bold\", color=\"#355764\", fontsize=14, labelpad = 20)\n",
    "plt.ylabel(\"Subject\", weight=\"bold\", color=\"#355764\", fontsize=14, labelpad=20)\n",
    "plt.show()"
   ]
  },
  {
   "cell_type": "markdown",
   "id": "02801e33",
   "metadata": {},
   "source": [
    "### Subject based Average Subscribers"
   ]
  },
  {
   "cell_type": "code",
   "execution_count": 67,
   "id": "93fc8fb2",
   "metadata": {},
   "outputs": [
    {
     "data": {
      "text/plain": [
       "subject\n",
       "Web Development        6650.476667\n",
       "Graphic Design         1763.097844\n",
       "Business Finance       1560.256047\n",
       "Musical Instruments    1245.130882\n",
       "Name: num_subscribers, dtype: float64"
      ]
     },
     "execution_count": 67,
     "metadata": {},
     "output_type": "execute_result"
    }
   ],
   "source": [
    "data.groupby(\"subject\")[\"num_subscribers\"].mean().sort_values(ascending=False)"
   ]
  },
  {
   "cell_type": "code",
   "execution_count": 79,
   "id": "b67b353a",
   "metadata": {},
   "outputs": [
    {
     "data": {
      "image/png": "[encoded data removed]",
      "text/plain": [
       "<Figure size 576x432 with 1 Axes>"
      ]
     },
     "metadata": {
      "needs_background": "light"
     },
     "output_type": "display_data"
    }
   ],
   "source": [
    "avg_subs = pd.DataFrame({'Subject': data.groupby(\"subject\")[\"num_subscribers\"].mean().sort_values(ascending=False).index,\n",
    "                         'Average Subscribers': data.groupby(\"subject\")[\"num_subscribers\"].mean().sort_values(ascending=False).values})\n",
    "\n",
    "plt.figure(figsize = (8,6))\n",
    "sns.barplot(x = \"Subject\",\n",
    "            y = \"Average Subscribers\",\n",
    "            data=avg_subs,\n",
    "            palette=\"summer\")\n",
    "plt.title(\"Subject based Average Subscribers\", fontsize= 16, fontweight = \"bold\")\n",
    "plt.grid(color='#95a5a6', linestyle='-.', linewidth=1, axis='y', alpha=0.7)\n",
    "plt.xlabel(\"Subject\", weight=\"bold\", color=\"#355764\", fontsize=14, labelpad = 20)\n",
    "plt.ylabel(\"Average Subscribers\", weight=\"bold\", color=\"#355764\", fontsize=14, labelpad=20)\n",
    "plt.show()"
   ]
  },
  {
   "cell_type": "markdown",
   "id": "f9d387ee",
   "metadata": {},
   "source": [
    "### All the courses which are free"
   ]
  },
  {
   "cell_type": "code",
   "execution_count": 84,
   "id": "3cfe4553",
   "metadata": {},
   "outputs": [
    {
     "data": {
      "text/html": [
       "<div>\n",
       "<style scoped>\n",
       "    .dataframe tbody tr th:only-of-type {\n",
       "        vertical-align: middle;\n",
       "    }\n",
       "\n",
       "    .dataframe tbody tr th {\n",
       "        vertical-align: top;\n",
       "    }\n",
       "\n",
       "    .dataframe thead th {\n",
       "        text-align: right;\n",
       "    }\n",
       "</style>\n",
       "<table border=\"1\" class=\"dataframe\">\n",
       "  <thead>\n",
       "    <tr style=\"text-align: right;\">\n",
       "      <th></th>\n",
       "      <th>course_id</th>\n",
       "      <th>course_title</th>\n",
       "      <th>is_paid</th>\n",
       "      <th>price</th>\n",
       "      <th>num_subscribers</th>\n",
       "      <th>num_reviews</th>\n",
       "      <th>num_lectures</th>\n",
       "      <th>level</th>\n",
       "      <th>content_duration</th>\n",
       "      <th>published_timestamp</th>\n",
       "      <th>subject</th>\n",
       "    </tr>\n",
       "  </thead>\n",
       "  <tbody>\n",
       "    <tr>\n",
       "      <th>41</th>\n",
       "      <td>286070</td>\n",
       "      <td>5 lecciones que todo guitarrista debe tomar</td>\n",
       "      <td>False</td>\n",
       "      <td>Free</td>\n",
       "      <td>4452</td>\n",
       "      <td>263</td>\n",
       "      <td>14</td>\n",
       "      <td>Beginner Level</td>\n",
       "      <td>1 hour</td>\n",
       "      <td>2014-08-23T05:08:14Z</td>\n",
       "      <td>Musical Instruments</td>\n",
       "    </tr>\n",
       "    <tr>\n",
       "      <th>49</th>\n",
       "      <td>696630</td>\n",
       "      <td>7 Ways A Beginner Guitarist Can Sound Better, ...</td>\n",
       "      <td>False</td>\n",
       "      <td>Free</td>\n",
       "      <td>4529</td>\n",
       "      <td>193</td>\n",
       "      <td>7</td>\n",
       "      <td>Beginner Level</td>\n",
       "      <td>36 mins</td>\n",
       "      <td>2015-12-21T18:50:50Z</td>\n",
       "      <td>Musical Instruments</td>\n",
       "    </tr>\n",
       "    <tr>\n",
       "      <th>57</th>\n",
       "      <td>955914</td>\n",
       "      <td>A beginner`s guide to fingerpicking and strumm...</td>\n",
       "      <td>False</td>\n",
       "      <td>Free</td>\n",
       "      <td>3481</td>\n",
       "      <td>29</td>\n",
       "      <td>20</td>\n",
       "      <td>Beginner Level</td>\n",
       "      <td>2 hours</td>\n",
       "      <td>2016-09-13T21:51:59Z</td>\n",
       "      <td>Musical Instruments</td>\n",
       "    </tr>\n",
       "    <tr>\n",
       "      <th>67</th>\n",
       "      <td>270976</td>\n",
       "      <td>A how to guide in HTML</td>\n",
       "      <td>False</td>\n",
       "      <td>Free</td>\n",
       "      <td>7318</td>\n",
       "      <td>205</td>\n",
       "      <td>8</td>\n",
       "      <td>Beginner Level</td>\n",
       "      <td>35 mins</td>\n",
       "      <td>2014-08-10T20:19:10Z</td>\n",
       "      <td>Web Development</td>\n",
       "    </tr>\n",
       "    <tr>\n",
       "      <th>74</th>\n",
       "      <td>1214144</td>\n",
       "      <td>¡Triunfar en La Bolsa de Valores No Requiere d...</td>\n",
       "      <td>False</td>\n",
       "      <td>Free</td>\n",
       "      <td>338</td>\n",
       "      <td>7</td>\n",
       "      <td>6</td>\n",
       "      <td>Beginner Level</td>\n",
       "      <td>1 hour</td>\n",
       "      <td>2017-05-30T14:30:12Z</td>\n",
       "      <td>Business Finance</td>\n",
       "    </tr>\n",
       "  </tbody>\n",
       "</table>\n",
       "</div>"
      ],
      "text/plain": [
       "    course_id                                       course_title  is_paid  \\\n",
       "41     286070        5 lecciones que todo guitarrista debe tomar    False   \n",
       "49     696630  7 Ways A Beginner Guitarist Can Sound Better, ...    False   \n",
       "57     955914  A beginner`s guide to fingerpicking and strumm...    False   \n",
       "67     270976                             A how to guide in HTML    False   \n",
       "74    1214144  ¡Triunfar en La Bolsa de Valores No Requiere d...    False   \n",
       "\n",
       "   price  num_subscribers  num_reviews  num_lectures           level  \\\n",
       "41  Free             4452          263            14  Beginner Level   \n",
       "49  Free             4529          193             7  Beginner Level   \n",
       "57  Free             3481           29            20  Beginner Level   \n",
       "67  Free             7318          205             8  Beginner Level   \n",
       "74  Free              338            7             6  Beginner Level   \n",
       "\n",
       "   content_duration   published_timestamp              subject  \n",
       "41           1 hour  2014-08-23T05:08:14Z  Musical Instruments  \n",
       "49          36 mins  2015-12-21T18:50:50Z  Musical Instruments  \n",
       "57          2 hours  2016-09-13T21:51:59Z  Musical Instruments  \n",
       "67          35 mins  2014-08-10T20:19:10Z      Web Development  \n",
       "74           1 hour  2017-05-30T14:30:12Z     Business Finance  "
      ]
     },
     "execution_count": 84,
     "metadata": {},
     "output_type": "execute_result"
    }
   ],
   "source": [
    "free_courses = data[(data[\"is_paid\"] == False)]\n",
    "data[(data[\"is_paid\"] == False)].head(5)"
   ]
  },
  {
   "cell_type": "code",
   "execution_count": 86,
   "id": "1c3b3fb9",
   "metadata": {},
   "outputs": [
    {
     "name": "stdout",
     "output_type": "stream",
     "text": [
      "Number of free courses:  310\n"
     ]
    }
   ],
   "source": [
    "print(\"Number of free courses: \",len(free_courses))"
   ]
  },
  {
   "cell_type": "markdown",
   "id": "11ecda4d",
   "metadata": {},
   "source": [
    "### Paid - Free Pie Chart"
   ]
  },
  {
   "cell_type": "code",
   "execution_count": 101,
   "id": "f1d5242e",
   "metadata": {},
   "outputs": [],
   "source": [
    "paid_courses = data[(data[\"is_paid\"] == True)]"
   ]
  },
  {
   "cell_type": "code",
   "execution_count": 111,
   "id": "565813fb",
   "metadata": {},
   "outputs": [
    {
     "data": {
      "text/plain": [
       "{'Number of free courses': 310, 'Number of paid courses': 3372}"
      ]
     },
     "execution_count": 111,
     "metadata": {},
     "output_type": "execute_result"
    }
   ],
   "source": [
    "pie_data = dict()\n",
    "pie_data = {'Number of free courses': len(free_courses),\n",
    "            'Number of paid courses': len(paid_courses)}\n",
    "pie_data"
   ]
  },
  {
   "cell_type": "code",
   "execution_count": 108,
   "id": "aa56f7d5",
   "metadata": {},
   "outputs": [
    {
     "data": {
      "image/png": "[encoded data removed]",
      "text/plain": [
       "<Figure size 432x288 with 1 Axes>"
      ]
     },
     "metadata": {},
     "output_type": "display_data"
    }
   ],
   "source": [
    "colors = sns.color_palette('RdBu_r')\n",
    "\n",
    "plt.pie(pie_data.values(), labels= pie_data.keys(), colors = colors, autopct='%.0f%%')\n",
    "plt.show()"
   ]
  },
  {
   "cell_type": "markdown",
   "id": "56623df3",
   "metadata": {},
   "source": [
    "### Subject based Average Price"
   ]
  },
  {
   "cell_type": "code",
   "execution_count": 113,
   "id": "b85e0252",
   "metadata": {},
   "outputs": [
    {
     "name": "stdout",
     "output_type": "stream",
     "text": [
      "<class 'pandas.core.frame.DataFrame'>\n",
      "RangeIndex: 3682 entries, 0 to 3681\n",
      "Data columns (total 11 columns):\n",
      " #   Column               Non-Null Count  Dtype \n",
      "---  ------               --------------  ----- \n",
      " 0   course_id            3682 non-null   int64 \n",
      " 1   course_title         3682 non-null   object\n",
      " 2   is_paid              3682 non-null   bool  \n",
      " 3   price                3682 non-null   object\n",
      " 4   num_subscribers      3682 non-null   int64 \n",
      " 5   num_reviews          3682 non-null   int64 \n",
      " 6   num_lectures         3682 non-null   int64 \n",
      " 7   level                3682 non-null   object\n",
      " 8   content_duration     3682 non-null   object\n",
      " 9   published_timestamp  3682 non-null   object\n",
      " 10  subject              3682 non-null   object\n",
      "dtypes: bool(1), int64(4), object(6)\n",
      "memory usage: 291.4+ KB\n"
     ]
    }
   ],
   "source": [
    "data.info()"
   ]
  },
  {
   "cell_type": "code",
   "execution_count": 226,
   "id": "37b0a249",
   "metadata": {},
   "outputs": [
    {
     "data": {
      "text/html": [
       "<div>\n",
       "<style scoped>\n",
       "    .dataframe tbody tr th:only-of-type {\n",
       "        vertical-align: middle;\n",
       "    }\n",
       "\n",
       "    .dataframe tbody tr th {\n",
       "        vertical-align: top;\n",
       "    }\n",
       "\n",
       "    .dataframe thead th {\n",
       "        text-align: right;\n",
       "    }\n",
       "</style>\n",
       "<table border=\"1\" class=\"dataframe\">\n",
       "  <thead>\n",
       "    <tr style=\"text-align: right;\">\n",
       "      <th></th>\n",
       "      <th>course_id</th>\n",
       "      <th>course_title</th>\n",
       "      <th>is_paid</th>\n",
       "      <th>price</th>\n",
       "      <th>num_subscribers</th>\n",
       "      <th>num_reviews</th>\n",
       "      <th>num_lectures</th>\n",
       "      <th>level</th>\n",
       "      <th>content_duration</th>\n",
       "      <th>published_timestamp</th>\n",
       "      <th>subject</th>\n",
       "    </tr>\n",
       "  </thead>\n",
       "  <tbody>\n",
       "    <tr>\n",
       "      <th>0</th>\n",
       "      <td>288942</td>\n",
       "      <td>#1 Piano Hand Coordination: Play 10th Ballad i...</td>\n",
       "      <td>True</td>\n",
       "      <td>35.0</td>\n",
       "      <td>3137</td>\n",
       "      <td>18</td>\n",
       "      <td>68</td>\n",
       "      <td>All Levels</td>\n",
       "      <td>1.5 hours</td>\n",
       "      <td>2014-09-18T05:07:05Z</td>\n",
       "      <td>Musical Instruments</td>\n",
       "    </tr>\n",
       "    <tr>\n",
       "      <th>1</th>\n",
       "      <td>1170074</td>\n",
       "      <td>#10 Hand Coordination - Transfer Chord Ballad ...</td>\n",
       "      <td>True</td>\n",
       "      <td>75.0</td>\n",
       "      <td>1593</td>\n",
       "      <td>1</td>\n",
       "      <td>41</td>\n",
       "      <td>Intermediate Level</td>\n",
       "      <td>1 hour</td>\n",
       "      <td>2017-04-12T19:06:34Z</td>\n",
       "      <td>Musical Instruments</td>\n",
       "    </tr>\n",
       "    <tr>\n",
       "      <th>2</th>\n",
       "      <td>1193886</td>\n",
       "      <td>#12 Hand Coordination: Let your Hands dance wi...</td>\n",
       "      <td>True</td>\n",
       "      <td>75.0</td>\n",
       "      <td>482</td>\n",
       "      <td>1</td>\n",
       "      <td>47</td>\n",
       "      <td>Intermediate Level</td>\n",
       "      <td>1.5 hours</td>\n",
       "      <td>2017-04-26T18:34:57Z</td>\n",
       "      <td>Musical Instruments</td>\n",
       "    </tr>\n",
       "    <tr>\n",
       "      <th>3</th>\n",
       "      <td>1116700</td>\n",
       "      <td>#4 Piano Hand Coordination: Fun Piano Runs in ...</td>\n",
       "      <td>True</td>\n",
       "      <td>75.0</td>\n",
       "      <td>850</td>\n",
       "      <td>3</td>\n",
       "      <td>43</td>\n",
       "      <td>Intermediate Level</td>\n",
       "      <td>1 hour</td>\n",
       "      <td>2017-02-21T23:48:18Z</td>\n",
       "      <td>Musical Instruments</td>\n",
       "    </tr>\n",
       "    <tr>\n",
       "      <th>4</th>\n",
       "      <td>1120410</td>\n",
       "      <td>#5  Piano Hand Coordination:  Piano Runs in 2 ...</td>\n",
       "      <td>True</td>\n",
       "      <td>75.0</td>\n",
       "      <td>940</td>\n",
       "      <td>3</td>\n",
       "      <td>32</td>\n",
       "      <td>Intermediate Level</td>\n",
       "      <td>37 mins</td>\n",
       "      <td>2017-02-21T23:44:49Z</td>\n",
       "      <td>Musical Instruments</td>\n",
       "    </tr>\n",
       "  </tbody>\n",
       "</table>\n",
       "</div>"
      ],
      "text/plain": [
       "   course_id                                       course_title  is_paid  \\\n",
       "0     288942  #1 Piano Hand Coordination: Play 10th Ballad i...     True   \n",
       "1    1170074  #10 Hand Coordination - Transfer Chord Ballad ...     True   \n",
       "2    1193886  #12 Hand Coordination: Let your Hands dance wi...     True   \n",
       "3    1116700  #4 Piano Hand Coordination: Fun Piano Runs in ...     True   \n",
       "4    1120410  #5  Piano Hand Coordination:  Piano Runs in 2 ...     True   \n",
       "\n",
       "   price  num_subscribers  num_reviews  num_lectures               level  \\\n",
       "0   35.0             3137           18            68          All Levels   \n",
       "1   75.0             1593            1            41  Intermediate Level   \n",
       "2   75.0              482            1            47  Intermediate Level   \n",
       "3   75.0              850            3            43  Intermediate Level   \n",
       "4   75.0              940            3            32  Intermediate Level   \n",
       "\n",
       "  content_duration   published_timestamp              subject  \n",
       "0        1.5 hours  2014-09-18T05:07:05Z  Musical Instruments  \n",
       "1           1 hour  2017-04-12T19:06:34Z  Musical Instruments  \n",
       "2        1.5 hours  2017-04-26T18:34:57Z  Musical Instruments  \n",
       "3           1 hour  2017-02-21T23:48:18Z  Musical Instruments  \n",
       "4          37 mins  2017-02-21T23:44:49Z  Musical Instruments  "
      ]
     },
     "execution_count": 226,
     "metadata": {},
     "output_type": "execute_result"
    }
   ],
   "source": [
    "# price dtype = object\n",
    "# we need to convert float64\n",
    "data[\"price\"] = np.where(data['price']==\"Free\", np.nan, data[\"price\"])\n",
    "data['price'] = data['price'].astype('float64')\n",
    "data.head(5)"
   ]
  },
  {
   "cell_type": "code",
   "execution_count": 130,
   "id": "910997c6",
   "metadata": {},
   "outputs": [
    {
     "data": {
      "text/plain": [
       "subject\n",
       "Web Development        86.635426\n",
       "Business Finance       74.378966\n",
       "Graphic Design         61.390845\n",
       "Musical Instruments    53.154574\n",
       "Name: price, dtype: float64"
      ]
     },
     "execution_count": 130,
     "metadata": {},
     "output_type": "execute_result"
    }
   ],
   "source": [
    "data.groupby(\"subject\")[\"price\"].mean().sort_values(ascending=False)"
   ]
  },
  {
   "cell_type": "code",
   "execution_count": 133,
   "id": "8c6ae8c2",
   "metadata": {},
   "outputs": [
    {
     "data": {
      "image/png": "[encoded data removed]",
      "text/plain": [
       "<Figure size 576x288 with 1 Axes>"
      ]
     },
     "metadata": {
      "needs_background": "light"
     },
     "output_type": "display_data"
    }
   ],
   "source": [
    "avg_price = pd.DataFrame({'Subject': data.groupby(\"subject\")[\"price\"].mean().sort_values(ascending=False).index,\n",
    "                         'Average Prices': data.groupby(\"subject\")[\"price\"].mean().sort_values(ascending=False).values})\n",
    "\n",
    "plt.figure(figsize = (8,4))\n",
    "sns.barplot(x = \"Subject\",\n",
    "            y = \"Average Prices\",\n",
    "            data=avg_price,\n",
    "            palette=\"YlGnBu\")\n",
    "plt.title(\"Subject based Average Price\", fontsize= 16, fontweight = \"bold\")\n",
    "plt.grid(color='#95a5a6', linestyle='-.', linewidth=1, axis='y', alpha=0.7)\n",
    "plt.xlabel(\"Subject\", weight=\"bold\", color=\"#355764\", fontsize=14, labelpad = 20)\n",
    "plt.ylabel(\"Average Price\", weight=\"bold\", color=\"#355764\", fontsize=14, labelpad=20)\n",
    "plt.show()"
   ]
  },
  {
   "cell_type": "markdown",
   "id": "d4441e92",
   "metadata": {},
   "source": [
    "### Correlation between 'Subscribers' and 'Price'"
   ]
  },
  {
   "cell_type": "code",
   "execution_count": 154,
   "id": "cfe626d7",
   "metadata": {},
   "outputs": [
    {
     "data": {
      "image/png": "[encoded data removed]",
      "text/plain": [
       "<Figure size 720x576 with 2 Axes>"
      ]
     },
     "metadata": {
      "needs_background": "light"
     },
     "output_type": "display_data"
    },
    {
     "name": "stdout",
     "output_type": "stream",
     "text": [
      "We can say weak relationship or no relationship between subscribers and price\n"
     ]
    }
   ],
   "source": [
    "plt.figure(figsize=(10,8))\n",
    "plt.xticks(fontsize=14, weight=\"bold\")\n",
    "plt.yticks(rotation = 90, fontsize=14, weight=\"bold\")\n",
    "sns.heatmap(data[[\"num_subscribers\",\"price\"]].corr(),\n",
    "            cmap = \"flare\",\n",
    "            annot = True, linewidths=0.8, \n",
    "            annot_kws={'size': 15}, linecolor='white')\n",
    "plt.title(\"Correlation Matrix\", weight=\"bold\",fontsize=16)\n",
    "plt.show()\n",
    "\n",
    "print(\"We can say weak relationship or no relationship between subscribers and price\")"
   ]
  },
  {
   "cell_type": "markdown",
   "id": "0e4c8b46",
   "metadata": {},
   "source": [
    "### Which year has the most number of courses?"
   ]
  },
  {
   "cell_type": "code",
   "execution_count": 156,
   "id": "d9a15a9a",
   "metadata": {},
   "outputs": [],
   "source": [
    "data[\"Published_Date\"] = pd.to_datetime(data.published_timestamp)"
   ]
  },
  {
   "cell_type": "code",
   "execution_count": 157,
   "id": "3061d865",
   "metadata": {},
   "outputs": [
    {
     "data": {
      "text/html": [
       "<div>\n",
       "<style scoped>\n",
       "    .dataframe tbody tr th:only-of-type {\n",
       "        vertical-align: middle;\n",
       "    }\n",
       "\n",
       "    .dataframe tbody tr th {\n",
       "        vertical-align: top;\n",
       "    }\n",
       "\n",
       "    .dataframe thead th {\n",
       "        text-align: right;\n",
       "    }\n",
       "</style>\n",
       "<table border=\"1\" class=\"dataframe\">\n",
       "  <thead>\n",
       "    <tr style=\"text-align: right;\">\n",
       "      <th></th>\n",
       "      <th>course_id</th>\n",
       "      <th>course_title</th>\n",
       "      <th>is_paid</th>\n",
       "      <th>price</th>\n",
       "      <th>num_subscribers</th>\n",
       "      <th>num_reviews</th>\n",
       "      <th>num_lectures</th>\n",
       "      <th>level</th>\n",
       "      <th>content_duration</th>\n",
       "      <th>published_timestamp</th>\n",
       "      <th>subject</th>\n",
       "      <th>Published_Date</th>\n",
       "    </tr>\n",
       "  </thead>\n",
       "  <tbody>\n",
       "    <tr>\n",
       "      <th>0</th>\n",
       "      <td>288942</td>\n",
       "      <td>#1 Piano Hand Coordination: Play 10th Ballad i...</td>\n",
       "      <td>True</td>\n",
       "      <td>35.0</td>\n",
       "      <td>3137</td>\n",
       "      <td>18</td>\n",
       "      <td>68</td>\n",
       "      <td>All Levels</td>\n",
       "      <td>1.5 hours</td>\n",
       "      <td>2014-09-18T05:07:05Z</td>\n",
       "      <td>Musical Instruments</td>\n",
       "      <td>2014-09-18 05:07:05+00:00</td>\n",
       "    </tr>\n",
       "    <tr>\n",
       "      <th>1</th>\n",
       "      <td>1170074</td>\n",
       "      <td>#10 Hand Coordination - Transfer Chord Ballad ...</td>\n",
       "      <td>True</td>\n",
       "      <td>75.0</td>\n",
       "      <td>1593</td>\n",
       "      <td>1</td>\n",
       "      <td>41</td>\n",
       "      <td>Intermediate Level</td>\n",
       "      <td>1 hour</td>\n",
       "      <td>2017-04-12T19:06:34Z</td>\n",
       "      <td>Musical Instruments</td>\n",
       "      <td>2017-04-12 19:06:34+00:00</td>\n",
       "    </tr>\n",
       "  </tbody>\n",
       "</table>\n",
       "</div>"
      ],
      "text/plain": [
       "   course_id                                       course_title  is_paid  \\\n",
       "0     288942  #1 Piano Hand Coordination: Play 10th Ballad i...     True   \n",
       "1    1170074  #10 Hand Coordination - Transfer Chord Ballad ...     True   \n",
       "\n",
       "   price  num_subscribers  num_reviews  num_lectures               level  \\\n",
       "0   35.0             3137           18            68          All Levels   \n",
       "1   75.0             1593            1            41  Intermediate Level   \n",
       "\n",
       "  content_duration   published_timestamp              subject  \\\n",
       "0        1.5 hours  2014-09-18T05:07:05Z  Musical Instruments   \n",
       "1           1 hour  2017-04-12T19:06:34Z  Musical Instruments   \n",
       "\n",
       "             Published_Date  \n",
       "0 2014-09-18 05:07:05+00:00  \n",
       "1 2017-04-12 19:06:34+00:00  "
      ]
     },
     "execution_count": 157,
     "metadata": {},
     "output_type": "execute_result"
    }
   ],
   "source": [
    "data.head(2)"
   ]
  },
  {
   "cell_type": "code",
   "execution_count": 158,
   "id": "9a98db0b",
   "metadata": {},
   "outputs": [
    {
     "data": {
      "text/plain": [
       "2016    1206\n",
       "2015    1014\n",
       "2017     719\n",
       "2014     491\n",
       "2013     202\n",
       "2012      45\n",
       "2011       5\n",
       "Name: Published_Date, dtype: int64"
      ]
     },
     "execution_count": 158,
     "metadata": {},
     "output_type": "execute_result"
    }
   ],
   "source": [
    "data[\"Published_Date\"].dt.year.value_counts()"
   ]
  },
  {
   "cell_type": "code",
   "execution_count": 168,
   "id": "2dc90f03",
   "metadata": {},
   "outputs": [
    {
     "data": {
      "image/png": "[encoded data removed]",
      "text/plain": [
       "<Figure size 576x432 with 1 Axes>"
      ]
     },
     "metadata": {
      "needs_background": "light"
     },
     "output_type": "display_data"
    }
   ],
   "source": [
    "courses_year = data[\"Published_Date\"].dt.year.value_counts()\n",
    "\n",
    "plt.figure(figsize = (8,6))\n",
    "sns.barplot(x = courses_year.keys(), y= courses_year, palette=\"magma\")\n",
    "plt.title(\"Number of Courses by Year\", fontsize= 16, fontweight = \"bold\")\n",
    "plt.grid(color='#95a5a6', linestyle='-.', linewidth=1, axis='y', alpha=0.7)\n",
    "plt.xlabel(\"Year\", weight=\"bold\", color=\"#355764\", fontsize=14, labelpad = 20)\n",
    "plt.ylabel(\"Total Courses\", weight=\"bold\", color=\"#355764\", fontsize=14, labelpad=20)\n",
    "plt.show()"
   ]
  },
  {
   "cell_type": "markdown",
   "id": "adea8a87",
   "metadata": {},
   "source": [
    "### What is the average reviews of subjects with Graphic Design?"
   ]
  },
  {
   "cell_type": "code",
   "execution_count": 216,
   "id": "deaf37f4",
   "metadata": {},
   "outputs": [
    {
     "data": {
      "text/html": [
       "<div>\n",
       "<style scoped>\n",
       "    .dataframe tbody tr th:only-of-type {\n",
       "        vertical-align: middle;\n",
       "    }\n",
       "\n",
       "    .dataframe tbody tr th {\n",
       "        vertical-align: top;\n",
       "    }\n",
       "\n",
       "    .dataframe thead th {\n",
       "        text-align: right;\n",
       "    }\n",
       "</style>\n",
       "<table border=\"1\" class=\"dataframe\">\n",
       "  <thead>\n",
       "    <tr style=\"text-align: right;\">\n",
       "      <th></th>\n",
       "      <th>course_id</th>\n",
       "      <th>course_title</th>\n",
       "      <th>is_paid</th>\n",
       "      <th>price</th>\n",
       "      <th>num_subscribers</th>\n",
       "      <th>num_reviews</th>\n",
       "      <th>num_lectures</th>\n",
       "      <th>level</th>\n",
       "      <th>content_duration</th>\n",
       "      <th>published_timestamp</th>\n",
       "      <th>subject</th>\n",
       "    </tr>\n",
       "  </thead>\n",
       "  <tbody>\n",
       "    <tr>\n",
       "      <th>8</th>\n",
       "      <td>206592</td>\n",
       "      <td>:::Beginners Guide To Creating Amazing Images ...</td>\n",
       "      <td>True</td>\n",
       "      <td>25</td>\n",
       "      <td>72</td>\n",
       "      <td>5</td>\n",
       "      <td>17</td>\n",
       "      <td>Beginner Level</td>\n",
       "      <td>1 hour</td>\n",
       "      <td>2014-04-29T19:50:31Z</td>\n",
       "      <td>Graphic Design</td>\n",
       "    </tr>\n",
       "    <tr>\n",
       "      <th>20</th>\n",
       "      <td>1165268</td>\n",
       "      <td>15  Motion Graphic Elements in After Effect (S...</td>\n",
       "      <td>True</td>\n",
       "      <td>30</td>\n",
       "      <td>8</td>\n",
       "      <td>0</td>\n",
       "      <td>20</td>\n",
       "      <td>Intermediate Level</td>\n",
       "      <td>3 hours</td>\n",
       "      <td>2017-04-11T04:27:34Z</td>\n",
       "      <td>Graphic Design</td>\n",
       "    </tr>\n",
       "    <tr>\n",
       "      <th>35</th>\n",
       "      <td>1164876</td>\n",
       "      <td>3DS MAX - Learn 3Ds MAX tutorial for Beginners...</td>\n",
       "      <td>True</td>\n",
       "      <td>20</td>\n",
       "      <td>785</td>\n",
       "      <td>2</td>\n",
       "      <td>29</td>\n",
       "      <td>All Levels</td>\n",
       "      <td>4.5 hours</td>\n",
       "      <td>2017-04-18T16:45:59Z</td>\n",
       "      <td>Graphic Design</td>\n",
       "    </tr>\n",
       "    <tr>\n",
       "      <th>39</th>\n",
       "      <td>599652</td>\n",
       "      <td>48 Logo Designs and Techniques</td>\n",
       "      <td>True</td>\n",
       "      <td>20</td>\n",
       "      <td>113</td>\n",
       "      <td>9</td>\n",
       "      <td>48</td>\n",
       "      <td>All Levels</td>\n",
       "      <td>9 hours</td>\n",
       "      <td>2015-09-15T00:23:14Z</td>\n",
       "      <td>Graphic Design</td>\n",
       "    </tr>\n",
       "    <tr>\n",
       "      <th>47</th>\n",
       "      <td>1269190</td>\n",
       "      <td>7 Secrets To Designing In Black and White</td>\n",
       "      <td>True</td>\n",
       "      <td>100</td>\n",
       "      <td>1000</td>\n",
       "      <td>1</td>\n",
       "      <td>12</td>\n",
       "      <td>All Levels</td>\n",
       "      <td>1.5 hours</td>\n",
       "      <td>2017-06-27T19:55:18Z</td>\n",
       "      <td>Graphic Design</td>\n",
       "    </tr>\n",
       "  </tbody>\n",
       "</table>\n",
       "</div>"
      ],
      "text/plain": [
       "    course_id                                       course_title  is_paid  \\\n",
       "8      206592  :::Beginners Guide To Creating Amazing Images ...     True   \n",
       "20    1165268  15  Motion Graphic Elements in After Effect (S...     True   \n",
       "35    1164876  3DS MAX - Learn 3Ds MAX tutorial for Beginners...     True   \n",
       "39     599652                     48 Logo Designs and Techniques     True   \n",
       "47    1269190          7 Secrets To Designing In Black and White     True   \n",
       "\n",
       "   price  num_subscribers  num_reviews  num_lectures               level  \\\n",
       "8     25               72            5            17      Beginner Level   \n",
       "20    30                8            0            20  Intermediate Level   \n",
       "35    20              785            2            29          All Levels   \n",
       "39    20              113            9            48          All Levels   \n",
       "47   100             1000            1            12          All Levels   \n",
       "\n",
       "   content_duration   published_timestamp         subject  \n",
       "8            1 hour  2014-04-29T19:50:31Z  Graphic Design  \n",
       "20          3 hours  2017-04-11T04:27:34Z  Graphic Design  \n",
       "35        4.5 hours  2017-04-18T16:45:59Z  Graphic Design  \n",
       "39          9 hours  2015-09-15T00:23:14Z  Graphic Design  \n",
       "47        1.5 hours  2017-06-27T19:55:18Z  Graphic Design  "
      ]
     },
     "execution_count": 216,
     "metadata": {},
     "output_type": "execute_result"
    }
   ],
   "source": [
    "data[(data[\"subject\"] == \"Graphic Design\")].head(5)"
   ]
  },
  {
   "cell_type": "code",
   "execution_count": 217,
   "id": "bf9ee455",
   "metadata": {},
   "outputs": [
    {
     "data": {
      "text/plain": [
       "61.475953565505804"
      ]
     },
     "execution_count": 217,
     "metadata": {},
     "output_type": "execute_result"
    }
   ],
   "source": [
    "graphic_design = data[(data[\"subject\"] == \"Graphic Design\")]\n",
    "graphic_design[\"num_reviews\"].mean()"
   ]
  },
  {
   "cell_type": "markdown",
   "id": "ba7aba77",
   "metadata": {},
   "source": [
    "### Outliner Detection"
   ]
  },
  {
   "cell_type": "code",
   "execution_count": 268,
   "id": "45e8f1f1",
   "metadata": {},
   "outputs": [],
   "source": [
    "def outliner_detection(dataset,columns):\n",
    "    for column in columns:\n",
    "        # first quartile, third quartile\n",
    "        Q1 = dataset[column].quantile(0.25)\n",
    "        Q3 = dataset[column].quantile(0.75)\n",
    "    \n",
    "        #median\n",
    "        med = dataset[column].median()\n",
    "        \n",
    "        #IQR\n",
    "        IQR = Q3-Q1\n",
    "        \n",
    "        #bound values\n",
    "        min_bound = Q1-(1.5*IQR)\n",
    "        max_bound = Q3+(1.5*IQR)\n",
    "\n",
    "        outliners = (dataset[column] < min_bound).sum() + (dataset[column] > max_bound).sum()\n",
    "        \n",
    "        if outliners > 0:\n",
    "            plt.figure(figsize=(7, 7))\n",
    "            sns.boxplot(dataset[column], palette=\"Blues\")\n",
    "            plt.title(\"{} Boxplot\".format(column), fontsize= 16, fontweight = \"bold\")\n",
    "            plt.xlabel(\"{}\".format(column), weight=\"bold\", color=\"#355764\", fontsize=14, labelpad=20)\n",
    "            plt.xticks(fontsize=10, weight=\"bold\")\n",
    "            plt.yticks(fontsize=10, weight=\"bold\")\n",
    "            plt.show()\n",
    "            print(f\"{column} : Total outliner values are {outliners}.\")\n",
    "            \n",
    "        \n",
    "        else:\n",
    "            print(f\"{column} : Outlier value doesn't found.\")\n",
    "        "
   ]
  },
  {
   "cell_type": "code",
   "execution_count": 269,
   "id": "e56bb774",
   "metadata": {},
   "outputs": [
    {
     "name": "stdout",
     "output_type": "stream",
     "text": [
      "price : Outlier value doesn't found.\n"
     ]
    },
    {
     "name": "stderr",
     "output_type": "stream",
     "text": [
      "C:\\Users\\pc\\anaconda3\\lib\\site-packages\\seaborn\\_decorators.py:36: FutureWarning: Pass the following variable as a keyword arg: x. From version 0.12, the only valid positional argument will be `data`, and passing other arguments without an explicit keyword will result in an error or misinterpretation.\n",
      "  warnings.warn(\n"
     ]
    },
    {
     "data": {
      "image/png": "[encoded data removed]",
      "text/plain": [
       "<Figure size 504x504 with 1 Axes>"
      ]
     },
     "metadata": {
      "needs_background": "light"
     },
     "output_type": "display_data"
    },
    {
     "name": "stdout",
     "output_type": "stream",
     "text": [
      "num_subscribers : Total outliner values are 433.\n"
     ]
    }
   ],
   "source": [
    "# price, num_subscribers \n",
    "outliner_detection(data,columns = [\"price\", \"num_subscribers\"])"
   ]
  },
  {
   "cell_type": "code",
   "execution_count": 270,
   "id": "4d6bc3a3",
   "metadata": {},
   "outputs": [
    {
     "name": "stderr",
     "output_type": "stream",
     "text": [
      "C:\\Users\\pc\\anaconda3\\lib\\site-packages\\seaborn\\_decorators.py:36: FutureWarning: Pass the following variable as a keyword arg: x. From version 0.12, the only valid positional argument will be `data`, and passing other arguments without an explicit keyword will result in an error or misinterpretation.\n",
      "  warnings.warn(\n"
     ]
    },
    {
     "data": {
      "image/png": "[encoded data removed]",
      "text/plain": [
       "<Figure size 504x504 with 1 Axes>"
      ]
     },
     "metadata": {
      "needs_background": "light"
     },
     "output_type": "display_data"
    },
    {
     "name": "stdout",
     "output_type": "stream",
     "text": [
      "num_reviews : Total outliner values are 494.\n"
     ]
    },
    {
     "name": "stderr",
     "output_type": "stream",
     "text": [
      "C:\\Users\\pc\\anaconda3\\lib\\site-packages\\seaborn\\_decorators.py:36: FutureWarning: Pass the following variable as a keyword arg: x. From version 0.12, the only valid positional argument will be `data`, and passing other arguments without an explicit keyword will result in an error or misinterpretation.\n",
      "  warnings.warn(\n"
     ]
    },
    {
     "data": {
      "image/png": "[encoded data removed]",
      "text/plain": [
       "<Figure size 504x504 with 1 Axes>"
      ]
     },
     "metadata": {
      "needs_background": "light"
     },
     "output_type": "display_data"
    },
    {
     "name": "stdout",
     "output_type": "stream",
     "text": [
      "num_lectures : Total outliner values are 300.\n"
     ]
    }
   ],
   "source": [
    "# num_reviews, num_lectures \n",
    "outliner_detection(data,columns = [\"num_reviews\", \"num_lectures\"])"
   ]
  },
  {
   "cell_type": "code",
   "execution_count": null,
   "id": "2b81671f",
   "metadata": {},
   "outputs": [],
   "source": []
  }
 ],
 "metadata": {
  "kernelspec": {
   "display_name": "Python 3 (ipykernel)",
   "language": "python",
   "name": "python3"
  },
  "language_info": {
   "codemirror_mode": {
    "name": "ipython",
    "version": 3
   },
   "file_extension": ".py",
   "mimetype": "text/x-python",
   "name": "python",
   "nbconvert_exporter": "python",
   "pygments_lexer": "ipython3",
   "version": "3.9.12"
  }
 },
 "nbformat": 4,
 "nbformat_minor": 5
}
